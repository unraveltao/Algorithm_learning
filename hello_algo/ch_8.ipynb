{
 "cells": [
  {
   "cell_type": "markdown",
   "metadata": {},
   "source": [
    "# Chapter 8 | Heap"
   ]
  },
  {
   "cell_type": "code",
   "execution_count": 1,
   "metadata": {},
   "outputs": [],
   "source": [
    "import heapq\n",
    "#实现 “ 小顶堆 ” 与 “ 大顶堆 ” 之间的转化\n",
    "\n",
    "\n",
    "# python moudle 中 heapq 默认实现 “ 小顶堆 ”\n",
    "# “元素取负” 后入堆，可实现大小关系颠倒，从而实现大顶堆\n",
    "# flag = 1 ,对应小顶堆 ；flag = -1 ,对应大顶堆\n",
    "# 初始化顶堆\n",
    "min_heap , flag = [] , 1\n",
    "max_heap , flag = [] , -1\n",
    "\n",
    "# 元素入堆\n",
    "heapq.heappush(max_heap, flag * 1)\n",
    "heapq.heappush(max_heap, flag * 2)\n",
    "heapq.heappush(max_heap, flag * 3)\n",
    "heapq.heappush(max_heap, flag * 4)\n",
    "heapq.heappush(max_heap, flag * 5)\n",
    "\n",
    "# 获取堆顶元素\n",
    "peek: int = flag * max_heap[0]  #5\n",
    "\n",
    "# 堆顶元素出堆，出堆顺序有大到小\n",
    "val = flag * heapq.heappop(max_heap) #5\n",
    "val = flag * heapq.heappop(max_heap) #4\n",
    "val = flag * heapq.heappop(max_heap) #3\n",
    "val = flag * heapq.heappop(max_heap) #2\n",
    "val = flag * heapq.heappop(max_heap) #1\n",
    "\n",
    "# 获取堆的大小\n",
    "size: int = len(max_heap)\n",
    "\n",
    "# 判断堆是否为空\n",
    "is_empty: bool = not max_heap\n",
    "\n",
    "# 输入列表并建堆\n",
    "min_heap: list[int] = [1,3,2,5,4]\n",
    "heapq.heapify(min_heap)\n",
    "\n"
   ]
  }
 ],
 "metadata": {
  "kernelspec": {
   "display_name": "base",
   "language": "python",
   "name": "python3"
  },
  "language_info": {
   "codemirror_mode": {
    "name": "ipython",
    "version": 3
   },
   "file_extension": ".py",
   "mimetype": "text/x-python",
   "name": "python",
   "nbconvert_exporter": "python",
   "pygments_lexer": "ipython3",
   "version": "3.11.5"
  }
 },
 "nbformat": 4,
 "nbformat_minor": 2
}
