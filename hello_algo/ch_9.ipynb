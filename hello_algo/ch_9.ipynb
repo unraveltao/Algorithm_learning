{
 "cells": [
  {
   "cell_type": "markdown",
   "metadata": {},
   "source": [
    "# Chapter 9 | Graph"
   ]
  },
  {
   "cell_type": "code",
   "execution_count": 25,
   "metadata": {},
   "outputs": [],
   "source": [
    "# === graph_adjacency_matrix ===\n",
    "\n",
    "class Graph_adj_mat:\n",
    "    \"\"\" 基于邻接矩阵实现无向图类 \"\"\"\n",
    "\n",
    "    def __init__(self, vertices:list[int], edges: list[list[int]]):\n",
    "        \"\"\" 构造方法 \"\"\"\n",
    "\n",
    "        # 顶点列表，元素代表 “ 顶点值 ”，索引代表 “ 顶点索引 ”\n",
    "        self.vertices: list[int] = []\n",
    "        # 邻接矩阵，行列索引对应 “ 顶点索引 ” \n",
    "        self.adj_mat: list[list[int]] = []\n",
    "\n",
    "        # 添加顶点\n",
    "        for var in vertices:\n",
    "            self.add_vertx(var)\n",
    "        # 添加边 ; 注意 ：edges 元素代表顶点索引 ，即对应 vertices 元素索引\n",
    "        for e in edges:\n",
    "            self.add_edge(e[0],e[1])\n",
    "\n",
    "    def size(self) -> int:\n",
    "        \"\"\" 获取顶点数量 \"\"\"\n",
    "\n",
    "        return len(self.vertices)\n",
    "    \n",
    "    def add_vertex(self, val: int):\n",
    "        \"\"\" 添加顶点 \"\"\"\n",
    "\n",
    "        n = self.size()\n",
    "        # 向顶点列表中添加新顶点的值\n",
    "        self.vertices.append(val)\n",
    "\n",
    "        new_row = [0] * n\n",
    "        self.adj.mat.append(new_row)\n",
    "        for row in self.adj_mat:\n",
    "            row.append(0)\n",
    "\n",
    "    def remove_vertex(self, index: int):\n",
    "        \"\"\" 删除顶点 \"\"\"\n",
    "\n",
    "        if index >= self.size():\n",
    "            raise IndexError\n",
    "        # 在顶点列表中移除 index 的顶点\n",
    "        self.vertices.pop(index)\n",
    "\n",
    "        self.adj_mat.pop(index)\n",
    "\n",
    "        for row in self.adj_mat:\n",
    "            row.pop(index)\n",
    "            \n",
    "    def add_edge(self, i: int, j: int):\n",
    "        \"\"\" 添加边 \"\"\"\n",
    "\n",
    "        if i < 0 or j < 0 or i >= self.size() or j >= self.size() or i == j:\n",
    "            raise IndexError\n",
    "        \n",
    "        self.adj_mat[i][j] = 1\n",
    "        self.adj_mat[j][i] = 1\n",
    "\n",
    "    def remove_edge(self, i: int, j: int):\n",
    "        \"\"\" 删除边 \"\"\"\n",
    "\n",
    "        if i < 0 or j < 0 or i >= self.size() or j >= self.size() or i == j:\n",
    "            raise IndexError\n",
    "        self.adj_mat[i][j] = 0\n",
    "        self.adj_mat[j][i] = 0\n",
    "\n",
    "    def print(self):\n",
    "        \"\"\" 打印领接矩阵 \"\"\"\n",
    "\n",
    "        print(\" 顶点列表 = \", self.vertives)\n",
    "        print(\" 领接矩阵 = \")\n",
    "        # print_matrix(self.adj_mat)\n",
    "\n"
   ]
  },
  {
   "cell_type": "code",
   "execution_count": null,
   "metadata": {},
   "outputs": [],
   "source": [
    " "
   ]
  }
 ],
 "metadata": {
  "kernelspec": {
   "display_name": "base",
   "language": "python",
   "name": "python3"
  },
  "language_info": {
   "codemirror_mode": {
    "name": "ipython",
    "version": 3
   },
   "file_extension": ".py",
   "mimetype": "text/x-python",
   "name": "python",
   "nbconvert_exporter": "python",
   "pygments_lexer": "ipython3",
   "version": "3.11.5"
  }
 },
 "nbformat": 4,
 "nbformat_minor": 2
}
